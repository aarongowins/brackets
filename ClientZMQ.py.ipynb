{
 "cells": [
  {
   "cell_type": "code",
   "execution_count": 2,
   "metadata": {
    "collapsed": false
   },
   "outputs": [
    {
     "name": "stdout",
     "output_type": "stream",
     "text": [
      "I: Connecting to server…\n",
      "I: Sending (1)\n"
     ]
    },
    {
     "ename": "ValueError",
     "evalue": "invalid literal for int() with base 10: 'World'",
     "output_type": "error",
     "traceback": [
      "\u001b[0;31m---------------------------------------------------------------------------\u001b[0m",
      "\u001b[0;31mValueError\u001b[0m                                Traceback (most recent call last)",
      "\u001b[0;32m<ipython-input-2-0729058ab0c1>\u001b[0m in \u001b[0;36m<module>\u001b[0;34m()\u001b[0m\n\u001b[1;32m     30\u001b[0m             \u001b[0;32mif\u001b[0m \u001b[0;32mnot\u001b[0m \u001b[0mreply\u001b[0m\u001b[0;34m:\u001b[0m\u001b[0;34m\u001b[0m\u001b[0m\n\u001b[1;32m     31\u001b[0m                 \u001b[0;32mbreak\u001b[0m\u001b[0;34m\u001b[0m\u001b[0m\n\u001b[0;32m---> 32\u001b[0;31m             \u001b[0;32mif\u001b[0m \u001b[0mint\u001b[0m\u001b[0;34m(\u001b[0m\u001b[0mreply\u001b[0m\u001b[0;34m)\u001b[0m \u001b[0;34m==\u001b[0m \u001b[0msequence\u001b[0m\u001b[0;34m:\u001b[0m\u001b[0;34m\u001b[0m\u001b[0m\n\u001b[0m\u001b[1;32m     33\u001b[0m                 \u001b[0;32mprint\u001b[0m \u001b[0;34m\"I: Server replied OK (%s)\"\u001b[0m \u001b[0;34m%\u001b[0m \u001b[0mreply\u001b[0m\u001b[0;34m\u001b[0m\u001b[0m\n\u001b[1;32m     34\u001b[0m                 \u001b[0mretries_left\u001b[0m \u001b[0;34m=\u001b[0m \u001b[0mREQUEST_RETRIES\u001b[0m\u001b[0;34m\u001b[0m\u001b[0m\n",
      "\u001b[0;31mValueError\u001b[0m: invalid literal for int() with base 10: 'World'"
     ]
    }
   ],
   "source": [
    "import sys\n",
    "import zmq\n",
    "\n",
    "REQUEST_TIMEOUT = 2500\n",
    "REQUEST_RETRIES = 3\n",
    "SERVER_ENDPOINT = \"tcp://localhost:5555\"\n",
    "\n",
    "context = zmq.Context(1)\n",
    "\n",
    "print \"I: Connecting to server…\"\n",
    "client = context.socket(zmq.REQ)\n",
    "client.connect(SERVER_ENDPOINT)\n",
    "\n",
    "poll = zmq.Poller()\n",
    "poll.register(client, zmq.POLLIN)\n",
    "\n",
    "sequence = 0\n",
    "retries_left = REQUEST_RETRIES\n",
    "while retries_left:\n",
    "    sequence += 1\n",
    "    request = str(sequence)\n",
    "    print \"I: Sending (%s)\" % request\n",
    "    client.send(request)\n",
    "\n",
    "    expect_reply = True\n",
    "    while expect_reply:\n",
    "        socks = dict(poll.poll(REQUEST_TIMEOUT))\n",
    "        if socks.get(client) == zmq.POLLIN:\n",
    "            reply = client.recv()\n",
    "            if not reply:\n",
    "                break\n",
    "            if int(reply) == sequence:\n",
    "                print \"I: Server replied OK (%s)\" % reply\n",
    "                retries_left = REQUEST_RETRIES\n",
    "                expect_reply = False\n",
    "            else:\n",
    "                print \"E: Malformed reply from server: %s\" % reply\n",
    "\n",
    "        else:\n",
    "            print \"W: No response from server, retrying…\"\n",
    "            # Socket is confused. Close and remove it.\n",
    "            client.setsockopt(zmq.LINGER, 0)\n",
    "            client.close()\n",
    "            poll.unregister(client)\n",
    "            retries_left -= 1\n",
    "            if retries_left == 0:\n",
    "                print \"E: Server seems to be offline, abandoning\"\n",
    "                break\n",
    "            print \"I: Reconnecting and resending (%s)\" % request\n",
    "            # Create new connection\n",
    "            client = context.socket(zmq.REQ)\n",
    "            client.connect(SERVER_ENDPOINT)\n",
    "            poll.register(client, zmq.POLLIN)\n",
    "            client.send(request)\n",
    "\n",
    "context.term()"
   ]
  },
  {
   "cell_type": "code",
   "execution_count": 1,
   "metadata": {
    "collapsed": false
   },
   "outputs": [
    {
     "name": "stdout",
     "output_type": "stream",
     "text": [
      "Connecting to hello world server…\n",
      "Sending request 0 …\n",
      "Received reply 0 [ World ]\n",
      "Sending request 1 …\n",
      "Received reply 1 [ World ]\n",
      "Sending request 2 …\n",
      "Received reply 2 [ World ]\n",
      "Sending request 3 …\n",
      "Received reply 3 [ World ]\n",
      "Sending request 4 …\n",
      "Received reply 4 [ World ]\n",
      "Sending request 5 …\n",
      "Received reply 5 [ World ]\n",
      "Sending request 6 …\n",
      "Received reply 6 [ World ]\n",
      "Sending request 7 …\n",
      "Received reply 7 [ World ]\n",
      "Sending request 8 …\n",
      "Received reply 8 [ World ]\n",
      "Sending request 9 …\n",
      "Received reply 9 [ World ]\n"
     ]
    }
   ],
   "source": [
    "## Hello World\n",
    "\n",
    "\n",
    "import zmq\n",
    "\n",
    "context = zmq.Context()\n",
    "\n",
    "#  Socket to talk to server\n",
    "print(\"Connecting to hello world server…\")\n",
    "socket = context.socket(zmq.REQ)\n",
    "socket.connect(\"tcp://localhost:5555\")\n",
    "\n",
    "#  Do 10 requests, waiting each time for a response\n",
    "for request in range(10):\n",
    "    print(\"Sending request %s …\" % request)\n",
    "    socket.send(b\"Hello\")\n",
    "\n",
    "    #  Get the reply.\n",
    "    message = socket.recv()\n",
    "    print(\"Received reply %s [ %s ]\" % (request, message))"
   ]
  },
  {
   "cell_type": "code",
   "execution_count": null,
   "metadata": {
    "collapsed": true
   },
   "outputs": [],
   "source": [
    "## Pair Connection\n",
    "\n",
    "import zmq\n",
    "\n",
    "context = zmq.Context()\n",
    "\n",
    "#  Socket to talk to server\n",
    "print(\"Connecting to hello world server…\")\n",
    "socket = context.socket(zmq.REQ)\n",
    "socket.connect(\"tcp://localhost:5555\")\n",
    "\n",
    "\n",
    "    socket.send(\"c\",16)\n",
    "\n",
    "    #  Get the reply.\n",
    "    message = socket.recv()\n",
    "    print(\"Received reply %s [ %s ]\" % (request, message))"
   ]
  },
  {
   "cell_type": "code",
   "execution_count": null,
   "metadata": {
    "collapsed": true
   },
   "outputs": [],
   "source": []
  }
 ],
 "metadata": {
  "kernelspec": {
   "display_name": "Python 2",
   "language": "python",
   "name": "python2"
  },
  "language_info": {
   "codemirror_mode": {
    "name": "ipython",
    "version": 2
   },
   "file_extension": ".py",
   "mimetype": "text/x-python",
   "name": "python",
   "nbconvert_exporter": "python",
   "pygments_lexer": "ipython2",
   "version": "2.7.10"
  }
 },
 "nbformat": 4,
 "nbformat_minor": 0
}
