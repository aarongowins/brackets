{
 "cells": [
  {
   "cell_type": "code",
   "execution_count": null,
   "metadata": {
    "collapsed": false
   },
   "outputs": [
    {
     "name": "stdout",
     "output_type": "stream",
     "text": [
      "Received request: Hello\n",
      "Received request: Hello\n",
      "Received request: Hello\n",
      "Received request: Hello\n",
      "Received request: Hello\n",
      "Received request: Hello\n",
      "Received request: Hello\n",
      "Received request: Hello\n",
      "Received request: Hello\n",
      "Received request: Hello"
     ]
    }
   ],
   "source": [
    "## Hello World\n",
    "\n",
    "import time\n",
    "import zmq\n",
    "\n",
    "context = zmq.Context()\n",
    "socket = context.socket(zmq.REP)\n",
    "socket.bind(\"tcp://*:5555\")\n",
    "\n",
    "while True:\n",
    "    #  Wait for next request from client\n",
    "    message = socket.recv()\n",
    "    print(\"Received request: %s\" % message)\n",
    "\n",
    "    #  Do some 'work'\n",
    "    time.sleep(1)\n",
    "\n",
    "    #  Send reply back to client\n",
    "    socket.send(b\"World\")"
   ]
  },
  {
   "cell_type": "code",
   "execution_count": null,
   "metadata": {
    "collapsed": true
   },
   "outputs": [],
   "source": [
    "## Pair Connection\n",
    "\n",
    "import time\n",
    "import zmq\n",
    "\n",
    "context = zmq.Context()\n",
    "socket = context.socket(zmq.REP)\n",
    "socket.bind(\"tcp://*:5555\")\n",
    "\n",
    "def func0():   \n",
    "    print(\"test\")\n",
    "\n",
    "while True:\n",
    "    #  Wait for next request from client\n",
    "    message = socket.recv()\n",
    "    print(\"Received request: %s\" % message)\n",
    "\n",
    "    #  Do some 'work'\n",
    "    ans=func0()\n",
    "\n",
    "    #  Send reply back to client\n",
    "    socket.send(ans)"
   ]
  },
  {
   "cell_type": "code",
   "execution_count": null,
   "metadata": {
    "collapsed": true
   },
   "outputs": [],
   "source": []
  }
 ],
 "metadata": {
  "kernelspec": {
   "display_name": "Python 2",
   "language": "python",
   "name": "python2"
  },
  "language_info": {
   "codemirror_mode": {
    "name": "ipython",
    "version": 2
   },
   "file_extension": ".py",
   "mimetype": "text/x-python",
   "name": "python",
   "nbconvert_exporter": "python",
   "pygments_lexer": "ipython2",
   "version": "2.7.10"
  }
 },
 "nbformat": 4,
 "nbformat_minor": 0
}
